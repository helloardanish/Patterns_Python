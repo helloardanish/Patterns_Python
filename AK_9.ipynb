{
 "cells": [
  {
   "cell_type": "code",
   "execution_count": 9,
   "metadata": {
    "collapsed": false
   },
   "outputs": [
    {
     "name": "stdout",
     "output_type": "stream",
     "text": [
      "5\n",
      "AAAAA\n",
      "BBBB\n",
      "CCC\n",
      "DD\n",
      "E\n"
     ]
    }
   ],
   "source": [
    "def print_ak9(n):\n",
    "    x=65\n",
    "    for i in range(n):\n",
    "        for j in range(n-i):\n",
    "            print(chr(x),end='')\n",
    "        x+=1\n",
    "        print()\n",
    "num = int(input())\n",
    "print_ak9(num)"
   ]
  },
  {
   "cell_type": "code",
   "execution_count": 10,
   "metadata": {
    "collapsed": false
   },
   "outputs": [
    {
     "name": "stdout",
     "output_type": "stream",
     "text": [
      "AAAAAAAA\n",
      "BBBBBBB\n",
      "CCCCCC\n",
      "DDDDD\n",
      "EEEE\n",
      "FFF\n",
      "GG\n",
      "H\n"
     ]
    }
   ],
   "source": [
    "print_ak9(8)"
   ]
  },
  {
   "cell_type": "code",
   "execution_count": 11,
   "metadata": {
    "collapsed": false
   },
   "outputs": [
    {
     "name": "stdout",
     "output_type": "stream",
     "text": [
      "AAAAAAAAAAA\n",
      "BBBBBBBBBB\n",
      "CCCCCCCCC\n",
      "DDDDDDDD\n",
      "EEEEEEE\n",
      "FFFFFF\n",
      "GGGGG\n",
      "HHHH\n",
      "III\n",
      "JJ\n",
      "K\n"
     ]
    }
   ],
   "source": [
    "print_ak9(11)"
   ]
  },
  {
   "cell_type": "code",
   "execution_count": 12,
   "metadata": {
    "collapsed": false
   },
   "outputs": [
    {
     "name": "stdout",
     "output_type": "stream",
     "text": [
      "AAAAAAAAAAAAAAAAAAA\n",
      "BBBBBBBBBBBBBBBBBB\n",
      "CCCCCCCCCCCCCCCCC\n",
      "DDDDDDDDDDDDDDDD\n",
      "EEEEEEEEEEEEEEE\n",
      "FFFFFFFFFFFFFF\n",
      "GGGGGGGGGGGGG\n",
      "HHHHHHHHHHHH\n",
      "IIIIIIIIIII\n",
      "JJJJJJJJJJ\n",
      "KKKKKKKKK\n",
      "LLLLLLLL\n",
      "MMMMMMM\n",
      "NNNNNN\n",
      "OOOOO\n",
      "PPPP\n",
      "QQQ\n",
      "RR\n",
      "S\n"
     ]
    }
   ],
   "source": [
    "print_ak9(19)"
   ]
  },
  {
   "cell_type": "code",
   "execution_count": 13,
   "metadata": {
    "collapsed": false
   },
   "outputs": [
    {
     "name": "stdout",
     "output_type": "stream",
     "text": [
      "AAAAAAAAAAAAAAAAAAAAAAAAAA\n",
      "BBBBBBBBBBBBBBBBBBBBBBBBB\n",
      "CCCCCCCCCCCCCCCCCCCCCCCC\n",
      "DDDDDDDDDDDDDDDDDDDDDDD\n",
      "EEEEEEEEEEEEEEEEEEEEEE\n",
      "FFFFFFFFFFFFFFFFFFFFF\n",
      "GGGGGGGGGGGGGGGGGGGG\n",
      "HHHHHHHHHHHHHHHHHHH\n",
      "IIIIIIIIIIIIIIIIII\n",
      "JJJJJJJJJJJJJJJJJ\n",
      "KKKKKKKKKKKKKKKK\n",
      "LLLLLLLLLLLLLLL\n",
      "MMMMMMMMMMMMMM\n",
      "NNNNNNNNNNNNN\n",
      "OOOOOOOOOOOO\n",
      "PPPPPPPPPPP\n",
      "QQQQQQQQQQ\n",
      "RRRRRRRRR\n",
      "SSSSSSSS\n",
      "TTTTTTT\n",
      "UUUUUU\n",
      "VVVVV\n",
      "WWWW\n",
      "XXX\n",
      "YY\n",
      "Z\n"
     ]
    }
   ],
   "source": [
    "print_ak9(26)"
   ]
  }
 ],
 "metadata": {
  "kernelspec": {
   "display_name": "Python 3",
   "language": "python",
   "name": "python3"
  },
  "language_info": {
   "codemirror_mode": {
    "name": "ipython",
    "version": 3
   },
   "file_extension": ".py",
   "mimetype": "text/x-python",
   "name": "python",
   "nbconvert_exporter": "python",
   "pygments_lexer": "ipython3",
   "version": "3.5.2"
  }
 },
 "nbformat": 4,
 "nbformat_minor": 2
}
