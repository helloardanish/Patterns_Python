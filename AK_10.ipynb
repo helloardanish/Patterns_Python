{
 "cells": [
  {
   "cell_type": "code",
   "execution_count": 10,
   "metadata": {
    "collapsed": false,
    "scrolled": false
   },
   "outputs": [
    {
     "name": "stdout",
     "output_type": "stream",
     "text": [
      "5\n",
      "    e\n",
      "   dd\n",
      "  ccc\n",
      " bbbb\n",
      "aaaaa\n"
     ]
    }
   ],
   "source": [
    "def print_ak10(n):\n",
    "    x=97+(n-1)\n",
    "    for i in range(n):\n",
    "        #for space\n",
    "        for j in range(n-i-1):\n",
    "            print(' ',end='')\n",
    "        for j in range(i+1):\n",
    "            print(chr(x),end='')\n",
    "        x-=1\n",
    "        print()\n",
    "num = int(input())\n",
    "print_ak10(num)"
   ]
  },
  {
   "cell_type": "code",
   "execution_count": 11,
   "metadata": {
    "collapsed": false
   },
   "outputs": [
    {
     "name": "stdout",
     "output_type": "stream",
     "text": [
      "   d\n",
      "  cc\n",
      " bbb\n",
      "aaaa\n"
     ]
    }
   ],
   "source": [
    "print_ak10(4)"
   ]
  },
  {
   "cell_type": "code",
   "execution_count": 12,
   "metadata": {
    "collapsed": false
   },
   "outputs": [
    {
     "name": "stdout",
     "output_type": "stream",
     "text": [
      "        i\n",
      "       hh\n",
      "      ggg\n",
      "     ffff\n",
      "    eeeee\n",
      "   dddddd\n",
      "  ccccccc\n",
      " bbbbbbbb\n",
      "aaaaaaaaa\n"
     ]
    }
   ],
   "source": [
    "print_ak10(9)"
   ]
  },
  {
   "cell_type": "code",
   "execution_count": 14,
   "metadata": {
    "collapsed": false
   },
   "outputs": [
    {
     "name": "stdout",
     "output_type": "stream",
     "text": [
      "               p\n",
      "              oo\n",
      "             nnn\n",
      "            mmmm\n",
      "           lllll\n",
      "          kkkkkk\n",
      "         jjjjjjj\n",
      "        iiiiiiii\n",
      "       hhhhhhhhh\n",
      "      gggggggggg\n",
      "     fffffffffff\n",
      "    eeeeeeeeeeee\n",
      "   ddddddddddddd\n",
      "  cccccccccccccc\n",
      " bbbbbbbbbbbbbbb\n",
      "aaaaaaaaaaaaaaaa\n"
     ]
    }
   ],
   "source": [
    "print_ak10(16)"
   ]
  },
  {
   "cell_type": "code",
   "execution_count": 15,
   "metadata": {
    "collapsed": false
   },
   "outputs": [
    {
     "name": "stdout",
     "output_type": "stream",
     "text": [
      "                    u\n",
      "                   tt\n",
      "                  sss\n",
      "                 rrrr\n",
      "                qqqqq\n",
      "               pppppp\n",
      "              ooooooo\n",
      "             nnnnnnnn\n",
      "            mmmmmmmmm\n",
      "           llllllllll\n",
      "          kkkkkkkkkkk\n",
      "         jjjjjjjjjjjj\n",
      "        iiiiiiiiiiiii\n",
      "       hhhhhhhhhhhhhh\n",
      "      ggggggggggggggg\n",
      "     ffffffffffffffff\n",
      "    eeeeeeeeeeeeeeeee\n",
      "   dddddddddddddddddd\n",
      "  ccccccccccccccccccc\n",
      " bbbbbbbbbbbbbbbbbbbb\n",
      "aaaaaaaaaaaaaaaaaaaaa\n"
     ]
    }
   ],
   "source": [
    "print_ak10(21)"
   ]
  },
  {
   "cell_type": "code",
   "execution_count": 16,
   "metadata": {
    "collapsed": false
   },
   "outputs": [
    {
     "name": "stdout",
     "output_type": "stream",
     "text": [
      "                         z\n",
      "                        yy\n",
      "                       xxx\n",
      "                      wwww\n",
      "                     vvvvv\n",
      "                    uuuuuu\n",
      "                   ttttttt\n",
      "                  ssssssss\n",
      "                 rrrrrrrrr\n",
      "                qqqqqqqqqq\n",
      "               ppppppppppp\n",
      "              oooooooooooo\n",
      "             nnnnnnnnnnnnn\n",
      "            mmmmmmmmmmmmmm\n",
      "           lllllllllllllll\n",
      "          kkkkkkkkkkkkkkkk\n",
      "         jjjjjjjjjjjjjjjjj\n",
      "        iiiiiiiiiiiiiiiiii\n",
      "       hhhhhhhhhhhhhhhhhhh\n",
      "      gggggggggggggggggggg\n",
      "     fffffffffffffffffffff\n",
      "    eeeeeeeeeeeeeeeeeeeeee\n",
      "   ddddddddddddddddddddddd\n",
      "  cccccccccccccccccccccccc\n",
      " bbbbbbbbbbbbbbbbbbbbbbbbb\n",
      "aaaaaaaaaaaaaaaaaaaaaaaaaa\n"
     ]
    }
   ],
   "source": [
    "print_ak10(26)"
   ]
  }
 ],
 "metadata": {
  "kernelspec": {
   "display_name": "Python 3",
   "language": "python",
   "name": "python3"
  },
  "language_info": {
   "codemirror_mode": {
    "name": "ipython",
    "version": 3
   },
   "file_extension": ".py",
   "mimetype": "text/x-python",
   "name": "python",
   "nbconvert_exporter": "python",
   "pygments_lexer": "ipython3",
   "version": "3.5.2"
  }
 },
 "nbformat": 4,
 "nbformat_minor": 2
}
