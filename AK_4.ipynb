{
 "cells": [
  {
   "cell_type": "code",
   "execution_count": 6,
   "metadata": {
    "collapsed": false
   },
   "outputs": [
    {
     "name": "stdout",
     "output_type": "stream",
     "text": [
      "5\n",
      "    *\n",
      "   **\n",
      "  ***\n",
      " ****\n",
      "*****\n"
     ]
    }
   ],
   "source": [
    "def print_ak4(n):\n",
    "    for i in range(n):\n",
    "        #for space\n",
    "        for j in range(n-i-1):\n",
    "            print(' ',end='')\n",
    "        for j in range(i+1):\n",
    "            print('*',end='')\n",
    "        print()\n",
    "num = int(input())\n",
    "print_ak4(num)"
   ]
  },
  {
   "cell_type": "code",
   "execution_count": 7,
   "metadata": {
    "collapsed": false
   },
   "outputs": [
    {
     "name": "stdout",
     "output_type": "stream",
     "text": [
      "       *\n",
      "      **\n",
      "     ***\n",
      "    ****\n",
      "   *****\n",
      "  ******\n",
      " *******\n",
      "********\n"
     ]
    }
   ],
   "source": [
    "print_ak4(8)"
   ]
  },
  {
   "cell_type": "code",
   "execution_count": 8,
   "metadata": {
    "collapsed": false
   },
   "outputs": [
    {
     "name": "stdout",
     "output_type": "stream",
     "text": [
      "              *\n",
      "             **\n",
      "            ***\n",
      "           ****\n",
      "          *****\n",
      "         ******\n",
      "        *******\n",
      "       ********\n",
      "      *********\n",
      "     **********\n",
      "    ***********\n",
      "   ************\n",
      "  *************\n",
      " **************\n",
      "***************\n"
     ]
    }
   ],
   "source": [
    "print_ak4(15)"
   ]
  },
  {
   "cell_type": "code",
   "execution_count": 9,
   "metadata": {
    "collapsed": false
   },
   "outputs": [
    {
     "name": "stdout",
     "output_type": "stream",
     "text": [
      "                        *\n",
      "                       **\n",
      "                      ***\n",
      "                     ****\n",
      "                    *****\n",
      "                   ******\n",
      "                  *******\n",
      "                 ********\n",
      "                *********\n",
      "               **********\n",
      "              ***********\n",
      "             ************\n",
      "            *************\n",
      "           **************\n",
      "          ***************\n",
      "         ****************\n",
      "        *****************\n",
      "       ******************\n",
      "      *******************\n",
      "     ********************\n",
      "    *********************\n",
      "   **********************\n",
      "  ***********************\n",
      " ************************\n",
      "*************************\n"
     ]
    }
   ],
   "source": [
    "print_ak4(25)"
   ]
  },
  {
   "cell_type": "code",
   "execution_count": 10,
   "metadata": {
    "collapsed": false,
    "scrolled": true
   },
   "outputs": [
    {
     "name": "stdout",
     "output_type": "stream",
     "text": [
      "                                *\n",
      "                               **\n",
      "                              ***\n",
      "                             ****\n",
      "                            *****\n",
      "                           ******\n",
      "                          *******\n",
      "                         ********\n",
      "                        *********\n",
      "                       **********\n",
      "                      ***********\n",
      "                     ************\n",
      "                    *************\n",
      "                   **************\n",
      "                  ***************\n",
      "                 ****************\n",
      "                *****************\n",
      "               ******************\n",
      "              *******************\n",
      "             ********************\n",
      "            *********************\n",
      "           **********************\n",
      "          ***********************\n",
      "         ************************\n",
      "        *************************\n",
      "       **************************\n",
      "      ***************************\n",
      "     ****************************\n",
      "    *****************************\n",
      "   ******************************\n",
      "  *******************************\n",
      " ********************************\n",
      "*********************************\n"
     ]
    }
   ],
   "source": [
    "print_ak4(33)"
   ]
  }
 ],
 "metadata": {
  "kernelspec": {
   "display_name": "Python 3",
   "language": "python",
   "name": "python3"
  },
  "language_info": {
   "codemirror_mode": {
    "name": "ipython",
    "version": 3
   },
   "file_extension": ".py",
   "mimetype": "text/x-python",
   "name": "python",
   "nbconvert_exporter": "python",
   "pygments_lexer": "ipython3",
   "version": "3.5.2"
  }
 },
 "nbformat": 4,
 "nbformat_minor": 2
}
