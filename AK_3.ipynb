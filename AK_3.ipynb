{
 "cells": [
  {
   "cell_type": "code",
   "execution_count": 5,
   "metadata": {
    "collapsed": false
   },
   "outputs": [
    {
     "name": "stdout",
     "output_type": "stream",
     "text": [
      "4\n",
      "abcd\n",
      "abc\n",
      "ab\n",
      "a\n"
     ]
    }
   ],
   "source": [
    "def print_ak3(n):\n",
    "    for i in range(n):\n",
    "        x=97\n",
    "        for j in range(n-i):\n",
    "            print(chr(x),end='')\n",
    "            x+=1\n",
    "        print()\n",
    "num = int(input())\n",
    "print_ak3(num)"
   ]
  },
  {
   "cell_type": "code",
   "execution_count": 6,
   "metadata": {
    "collapsed": false
   },
   "outputs": [
    {
     "name": "stdout",
     "output_type": "stream",
     "text": [
      "abcde\n",
      "abcd\n",
      "abc\n",
      "ab\n",
      "a\n"
     ]
    }
   ],
   "source": [
    "print_ak3(5)"
   ]
  },
  {
   "cell_type": "code",
   "execution_count": 7,
   "metadata": {
    "collapsed": false
   },
   "outputs": [
    {
     "name": "stdout",
     "output_type": "stream",
     "text": [
      "abcdefghi\n",
      "abcdefgh\n",
      "abcdefg\n",
      "abcdef\n",
      "abcde\n",
      "abcd\n",
      "abc\n",
      "ab\n",
      "a\n"
     ]
    }
   ],
   "source": [
    "print_ak3(9)"
   ]
  },
  {
   "cell_type": "code",
   "execution_count": 9,
   "metadata": {
    "collapsed": false
   },
   "outputs": [
    {
     "name": "stdout",
     "output_type": "stream",
     "text": [
      "abcdefghijklmnop\n",
      "abcdefghijklmno\n",
      "abcdefghijklmn\n",
      "abcdefghijklm\n",
      "abcdefghijkl\n",
      "abcdefghijk\n",
      "abcdefghij\n",
      "abcdefghi\n",
      "abcdefgh\n",
      "abcdefg\n",
      "abcdef\n",
      "abcde\n",
      "abcd\n",
      "abc\n",
      "ab\n",
      "a\n"
     ]
    }
   ],
   "source": [
    "print_ak3(16)"
   ]
  },
  {
   "cell_type": "code",
   "execution_count": 8,
   "metadata": {
    "collapsed": false
   },
   "outputs": [
    {
     "name": "stdout",
     "output_type": "stream",
     "text": [
      "abcdefghijklmnopqrstuvwxyz\n",
      "abcdefghijklmnopqrstuvwxy\n",
      "abcdefghijklmnopqrstuvwx\n",
      "abcdefghijklmnopqrstuvw\n",
      "abcdefghijklmnopqrstuv\n",
      "abcdefghijklmnopqrstu\n",
      "abcdefghijklmnopqrst\n",
      "abcdefghijklmnopqrs\n",
      "abcdefghijklmnopqr\n",
      "abcdefghijklmnopq\n",
      "abcdefghijklmnop\n",
      "abcdefghijklmno\n",
      "abcdefghijklmn\n",
      "abcdefghijklm\n",
      "abcdefghijkl\n",
      "abcdefghijk\n",
      "abcdefghij\n",
      "abcdefghi\n",
      "abcdefgh\n",
      "abcdefg\n",
      "abcdef\n",
      "abcde\n",
      "abcd\n",
      "abc\n",
      "ab\n",
      "a\n"
     ]
    }
   ],
   "source": [
    "print_ak3(26)"
   ]
  }
 ],
 "metadata": {
  "kernelspec": {
   "display_name": "Python 3",
   "language": "python",
   "name": "python3"
  },
  "language_info": {
   "codemirror_mode": {
    "name": "ipython",
    "version": 3
   },
   "file_extension": ".py",
   "mimetype": "text/x-python",
   "name": "python",
   "nbconvert_exporter": "python",
   "pygments_lexer": "ipython3",
   "version": "3.5.2"
  }
 },
 "nbformat": 4,
 "nbformat_minor": 2
}
