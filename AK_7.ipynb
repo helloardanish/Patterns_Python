{
 "cells": [
  {
   "cell_type": "code",
   "execution_count": 3,
   "metadata": {
    "collapsed": false,
    "scrolled": true
   },
   "outputs": [
    {
     "name": "stdout",
     "output_type": "stream",
     "text": [
      "5\n",
      "11111\n",
      "2222\n",
      "333\n",
      "44\n",
      "5\n"
     ]
    }
   ],
   "source": [
    "def print_ak7(n):\n",
    "    for i in range(n):\n",
    "        for j in range(n-i):\n",
    "            print(i+1,end='')\n",
    "        print()\n",
    "num = int(input())\n",
    "print_ak7(num)"
   ]
  },
  {
   "cell_type": "code",
   "execution_count": 4,
   "metadata": {
    "collapsed": false
   },
   "outputs": [
    {
     "name": "stdout",
     "output_type": "stream",
     "text": [
      "1111111\n",
      "222222\n",
      "33333\n",
      "4444\n",
      "555\n",
      "66\n",
      "7\n"
     ]
    }
   ],
   "source": [
    "print_ak7(7)"
   ]
  },
  {
   "cell_type": "code",
   "execution_count": 6,
   "metadata": {
    "collapsed": false
   },
   "outputs": [
    {
     "name": "stdout",
     "output_type": "stream",
     "text": [
      "11111111\n",
      "2222222\n",
      "333333\n",
      "44444\n",
      "5555\n",
      "666\n",
      "77\n",
      "8\n"
     ]
    }
   ],
   "source": [
    "print_ak7(8)"
   ]
  },
  {
   "cell_type": "code",
   "execution_count": 7,
   "metadata": {
    "collapsed": false
   },
   "outputs": [
    {
     "name": "stdout",
     "output_type": "stream",
     "text": [
      "111111111\n",
      "22222222\n",
      "3333333\n",
      "444444\n",
      "55555\n",
      "6666\n",
      "777\n",
      "88\n",
      "9\n"
     ]
    }
   ],
   "source": [
    "print_ak7(9)"
   ]
  }
 ],
 "metadata": {
  "kernelspec": {
   "display_name": "Python 3",
   "language": "python",
   "name": "python3"
  },
  "language_info": {
   "codemirror_mode": {
    "name": "ipython",
    "version": 3
   },
   "file_extension": ".py",
   "mimetype": "text/x-python",
   "name": "python",
   "nbconvert_exporter": "python",
   "pygments_lexer": "ipython3",
   "version": "3.5.2"
  }
 },
 "nbformat": 4,
 "nbformat_minor": 2
}
