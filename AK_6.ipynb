{
 "cells": [
  {
   "cell_type": "code",
   "execution_count": 2,
   "metadata": {
    "collapsed": false
   },
   "outputs": [
    {
     "name": "stdout",
     "output_type": "stream",
     "text": [
      "5\n",
      "5\n",
      "44\n",
      "333\n",
      "2222\n",
      "11111\n"
     ]
    }
   ],
   "source": [
    "def print_ak6(n):\n",
    "    for i in range(n):\n",
    "        for j in range(i+1):\n",
    "            print(n-i,end='')\n",
    "        print()\n",
    "num = int(input())\n",
    "print_ak6(num)"
   ]
  },
  {
   "cell_type": "code",
   "execution_count": 6,
   "metadata": {
    "collapsed": false
   },
   "outputs": [
    {
     "name": "stdout",
     "output_type": "stream",
     "text": [
      "6\n",
      "55\n",
      "444\n",
      "3333\n",
      "22222\n",
      "111111\n"
     ]
    }
   ],
   "source": [
    "print_ak6(6)"
   ]
  },
  {
   "cell_type": "code",
   "execution_count": 3,
   "metadata": {
    "collapsed": false
   },
   "outputs": [
    {
     "name": "stdout",
     "output_type": "stream",
     "text": [
      "7\n",
      "66\n",
      "555\n",
      "4444\n",
      "33333\n",
      "222222\n",
      "1111111\n"
     ]
    }
   ],
   "source": [
    "print_ak6(7)"
   ]
  },
  {
   "cell_type": "code",
   "execution_count": 5,
   "metadata": {
    "collapsed": false
   },
   "outputs": [
    {
     "name": "stdout",
     "output_type": "stream",
     "text": [
      "9\n",
      "88\n",
      "777\n",
      "6666\n",
      "55555\n",
      "444444\n",
      "3333333\n",
      "22222222\n",
      "111111111\n"
     ]
    }
   ],
   "source": [
    "print_ak6(9)"
   ]
  }
 ],
 "metadata": {
  "kernelspec": {
   "display_name": "Python 3",
   "language": "python",
   "name": "python3"
  },
  "language_info": {
   "codemirror_mode": {
    "name": "ipython",
    "version": 3
   },
   "file_extension": ".py",
   "mimetype": "text/x-python",
   "name": "python",
   "nbconvert_exporter": "python",
   "pygments_lexer": "ipython3",
   "version": "3.5.2"
  }
 },
 "nbformat": 4,
 "nbformat_minor": 2
}
