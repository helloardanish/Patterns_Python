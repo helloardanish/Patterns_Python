{
 "cells": [
  {
   "cell_type": "code",
   "execution_count": 26,
   "metadata": {
    "collapsed": false
   },
   "outputs": [
    {
     "name": "stdout",
     "output_type": "stream",
     "text": [
      "5\n",
      "    1\n",
      "   01\n",
      "  101\n",
      " 0101\n",
      "10101\n"
     ]
    }
   ],
   "source": [
    "def print_ak5(n):\n",
    "    for i in range(n):\n",
    "        #for space\n",
    "        for j in range(n-i-1):\n",
    "            print(' ',end='')\n",
    "        for j in range(i+1):\n",
    "            if (n-i-j)%2==0:\n",
    "                print('0',end='')\n",
    "            else:\n",
    "                print('1',end='')\n",
    "        print()\n",
    "num = int(input())\n",
    "print_ak5(num)"
   ]
  },
  {
   "cell_type": "code",
   "execution_count": 27,
   "metadata": {
    "collapsed": false
   },
   "outputs": [
    {
     "name": "stdout",
     "output_type": "stream",
     "text": [
      "        1\n",
      "       01\n",
      "      101\n",
      "     0101\n",
      "    10101\n",
      "   010101\n",
      "  1010101\n",
      " 01010101\n",
      "101010101\n"
     ]
    }
   ],
   "source": [
    "print_ak5(9)"
   ]
  },
  {
   "cell_type": "code",
   "execution_count": 29,
   "metadata": {
    "collapsed": false
   },
   "outputs": [
    {
     "name": "stdout",
     "output_type": "stream",
     "text": [
      "                   0\n",
      "                  10\n",
      "                 010\n",
      "                1010\n",
      "               01010\n",
      "              101010\n",
      "             0101010\n",
      "            10101010\n",
      "           010101010\n",
      "          1010101010\n",
      "         01010101010\n",
      "        101010101010\n",
      "       0101010101010\n",
      "      10101010101010\n",
      "     010101010101010\n",
      "    1010101010101010\n",
      "   01010101010101010\n",
      "  101010101010101010\n",
      " 0101010101010101010\n",
      "10101010101010101010\n"
     ]
    }
   ],
   "source": [
    "print_ak5(20)"
   ]
  },
  {
   "cell_type": "code",
   "execution_count": 30,
   "metadata": {
    "collapsed": false
   },
   "outputs": [
    {
     "name": "stdout",
     "output_type": "stream",
     "text": [
      "                              1\n",
      "                             01\n",
      "                            101\n",
      "                           0101\n",
      "                          10101\n",
      "                         010101\n",
      "                        1010101\n",
      "                       01010101\n",
      "                      101010101\n",
      "                     0101010101\n",
      "                    10101010101\n",
      "                   010101010101\n",
      "                  1010101010101\n",
      "                 01010101010101\n",
      "                101010101010101\n",
      "               0101010101010101\n",
      "              10101010101010101\n",
      "             010101010101010101\n",
      "            1010101010101010101\n",
      "           01010101010101010101\n",
      "          101010101010101010101\n",
      "         0101010101010101010101\n",
      "        10101010101010101010101\n",
      "       010101010101010101010101\n",
      "      1010101010101010101010101\n",
      "     01010101010101010101010101\n",
      "    101010101010101010101010101\n",
      "   0101010101010101010101010101\n",
      "  10101010101010101010101010101\n",
      " 010101010101010101010101010101\n",
      "1010101010101010101010101010101\n"
     ]
    }
   ],
   "source": [
    "print_ak5(31)"
   ]
  }
 ],
 "metadata": {
  "kernelspec": {
   "display_name": "Python 3",
   "language": "python",
   "name": "python3"
  },
  "language_info": {
   "codemirror_mode": {
    "name": "ipython",
    "version": 3
   },
   "file_extension": ".py",
   "mimetype": "text/x-python",
   "name": "python",
   "nbconvert_exporter": "python",
   "pygments_lexer": "ipython3",
   "version": "3.5.2"
  }
 },
 "nbformat": 4,
 "nbformat_minor": 2
}
